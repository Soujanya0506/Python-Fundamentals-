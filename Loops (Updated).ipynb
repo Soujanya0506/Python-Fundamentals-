{
 "cells": [
  {
   "cell_type": "markdown",
   "metadata": {},
   "source": [
    "# Loops\n",
    "\n",
    "In programming, the process of using an initialization, repetitions, and an ending condition is called a loop. In a loop, we perform a process of iteration (repeating tasks)."
   ]
  },
  {
   "cell_type": "markdown",
   "metadata": {},
   "source": [
    "Programming languages like Python implement two types of iteration:\n",
    "\n",
    "- Indefinite iteration, where the number of times the loop is executed depends on how many times a condition is met.\n",
    "\n",
    "- Definite iteration, where the number of times the loop will be executed is defined in advance (usually based on the collection size)."
   ]
  },
  {
   "cell_type": "code",
   "execution_count": 1,
   "metadata": {},
   "outputs": [],
   "source": [
    "ingredients = [\"milk\", \"sugar\", \"vanilla extract\", \"dough\", \"chocolate\"]"
   ]
  },
  {
   "cell_type": "code",
   "execution_count": 2,
   "metadata": {},
   "outputs": [
    {
     "name": "stdout",
     "output_type": "stream",
     "text": [
      "milk\n",
      "sugar\n",
      "vanilla extract\n",
      "dough\n",
      "chocolate\n"
     ]
    }
   ],
   "source": [
    "print(ingredients[0])\n",
    "print(ingredients[1])\n",
    "print(ingredients[2])\n",
    "print(ingredients[3])\n",
    "print(ingredients[4])"
   ]
  },
  {
   "cell_type": "markdown",
   "metadata": {},
   "source": [
    "# for loop\n",
    "In a for loop, we will know in advance how many times the loop will need to iterate because we will be working on a collection with a predefined length."
   ]
  },
  {
   "cell_type": "raw",
   "metadata": {},
   "source": [
    "for <temporary variable> in <collection>:\n",
    "  <action>"
   ]
  },
  {
   "cell_type": "raw",
   "metadata": {},
   "source": [
    "- A for keyword indicates the start of a for loop.\n",
    "- A <temporary variable> that is used to represent the value of the element in the collection the loop is currently on.\n",
    "- An in keyword separates the temporary variable from the collection used for iteration.\n",
    "- A <collection> to loop over. In our examples, we will be using a list.\n",
    "- An <action> to do anything on each iteration of the loop."
   ]
  },
  {
   "cell_type": "code",
   "execution_count": 3,
   "metadata": {},
   "outputs": [],
   "source": [
    "ingredients = [\"milk\", \"sugar\", \"vanilla extract\", \"dough\", \"chocolate\"]"
   ]
  },
  {
   "cell_type": "code",
   "execution_count": 4,
   "metadata": {},
   "outputs": [
    {
     "name": "stdout",
     "output_type": "stream",
     "text": [
      "milk\n",
      "sugar\n",
      "vanilla extract\n",
      "dough\n",
      "chocolate\n"
     ]
    }
   ],
   "source": [
    "for ingredient in ingredients:\n",
    "  print(ingredient)"
   ]
  },
  {
   "cell_type": "code",
   "execution_count": 5,
   "metadata": {},
   "outputs": [
    {
     "name": "stdout",
     "output_type": "stream",
     "text": [
      "milk\n",
      "sugar\n",
      "vanilla extract\n",
      "dough\n",
      "chocolate\n",
      "milk\n",
      "sugar\n",
      "vanilla extract\n",
      "dough\n",
      "chocolate\n"
     ]
    }
   ],
   "source": [
    "# A temporary variable’s name is arbitrary and does not need to be defined beforehand. Both of the following code snippets do the exact same thing as our above example:\n",
    "for i in ingredients:\n",
    "  print(i)\n",
    "for item in ingredients:\n",
    " print(item)"
   ]
  },
  {
   "cell_type": "code",
   "execution_count": 6,
   "metadata": {},
   "outputs": [
    {
     "name": "stdout",
     "output_type": "stream",
     "text": [
      "milk\n",
      "sugar\n",
      "vanilla extract\n",
      "dough\n",
      "chocolate\n"
     ]
    }
   ],
   "source": [
    "# Elegant loops:Python loves to help us write elegant code so it allows us to write simple for loops in one-line. In order to see the below example as one line, you may need to expand your narrative window. \n",
    "for ingredient in ingredients: print(ingredient)"
   ]
  },
  {
   "cell_type": "raw",
   "metadata": {},
   "source": [
    "# For Loops: Using Range\n",
    "\n",
    "for <temporary variable> in <list of length 6>:\n",
    "  print(\"Learning Loops!\")"
   ]
  },
  {
   "cell_type": "code",
   "execution_count": 7,
   "metadata": {},
   "outputs": [],
   "source": [
    "six_steps = range(6)"
   ]
  },
  {
   "cell_type": "code",
   "execution_count": 8,
   "metadata": {},
   "outputs": [
    {
     "name": "stdout",
     "output_type": "stream",
     "text": [
      "Learning Loops!\n",
      "Learning Loops!\n",
      "Learning Loops!\n"
     ]
    }
   ],
   "source": [
    "for temp in range(3):\n",
    "  print(\"Learning Loops!\")"
   ]
  },
  {
   "cell_type": "code",
   "execution_count": 9,
   "metadata": {},
   "outputs": [
    {
     "name": "stdout",
     "output_type": "stream",
     "text": [
      "Loop is on iteration number 1\n",
      "Loop is on iteration number 2\n",
      "Loop is on iteration number 3\n",
      "Loop is on iteration number 4\n",
      "Loop is on iteration number 5\n",
      "Loop is on iteration number 6\n"
     ]
    }
   ],
   "source": [
    "for temp in range(6):\n",
    "  print(\"Loop is on iteration number \" + str(temp + 1))"
   ]
  },
  {
   "cell_type": "code",
   "execution_count": 10,
   "metadata": {},
   "outputs": [
    {
     "name": "stdout",
     "output_type": "stream",
     "text": [
      "I will finish the python loops module!\n",
      "I will finish the python loops module!\n",
      "I will finish the python loops module!\n",
      "I will finish the python loops module!\n",
      "I will finish the python loops module!\n"
     ]
    }
   ],
   "source": [
    "promise = \"I will finish the python loops module!\"\n",
    "for x in range(5):\n",
    "  print(promise)"
   ]
  },
  {
   "cell_type": "markdown",
   "metadata": {},
   "source": [
    "### while loops: introduction\n",
    "\n",
    "Another type of loop is called a while loop and is a form of indefinite iteration.\n",
    "\n",
    "A while loop performs a set of instructions as long as a given condition is true.\n",
    "\n",
    "while conditional statement:\n",
    "  action"
   ]
  },
  {
   "cell_type": "code",
   "execution_count": 11,
   "metadata": {},
   "outputs": [
    {
     "name": "stdout",
     "output_type": "stream",
     "text": [
      "0\n",
      "1\n",
      "2\n",
      "3\n"
     ]
    }
   ],
   "source": [
    "count = 0\n",
    "while count <= 3:\n",
    "  # Loop Body\n",
    "  print(count)\n",
    "  count += 1"
   ]
  },
  {
   "cell_type": "code",
   "execution_count": 12,
   "metadata": {},
   "outputs": [
    {
     "name": "stdout",
     "output_type": "stream",
     "text": [
      "0\n",
      "1\n",
      "2\n",
      "3\n"
     ]
    }
   ],
   "source": [
    "count = 0\n",
    "while count <= 3: print(count); count += 1"
   ]
  },
  {
   "cell_type": "code",
   "execution_count": 13,
   "metadata": {},
   "outputs": [
    {
     "name": "stdout",
     "output_type": "stream",
     "text": [
      "Starting While Loop\n",
      "Loop Iteration - count <= 3 is still true\n",
      "Count is currently 0\n",
      " ----- \n",
      "Loop Iteration - count <= 3 is still true\n",
      "Count is currently 1\n",
      " ----- \n",
      "Loop Iteration - count <= 3 is still true\n",
      "Count is currently 2\n",
      " ----- \n",
      "Loop Iteration - count <= 3 is still true\n",
      "Count is currently 3\n",
      " ----- \n",
      "While Loop ended\n"
     ]
    }
   ],
   "source": [
    "count = 0\n",
    "print(\"Starting While Loop\")\n",
    "while count <= 3:\n",
    "    print(\"Loop Iteration - count <= 3 is still true\")\n",
    "    print(\"Count is currently \" + str(count))\n",
    "    count += 1\n",
    "    print(\" ----- \")\n",
    "print(\"While Loop ended\")"
   ]
  },
  {
   "cell_type": "code",
   "execution_count": 14,
   "metadata": {},
   "outputs": [
    {
     "name": "stdout",
     "output_type": "stream",
     "text": [
      "10\n",
      "9\n",
      "8\n",
      "7\n",
      "6\n",
      "5\n",
      "4\n",
      "3\n",
      "2\n",
      "1\n",
      "0\n",
      "We have liftoff!\n"
     ]
    }
   ],
   "source": [
    "countdown = 10\n",
    "while countdown >= 0: \n",
    "  print(countdown)\n",
    "  countdown -= 1 \n",
    "print(\"We have liftoff!\")"
   ]
  },
  {
   "cell_type": "markdown",
   "metadata": {},
   "source": [
    "# While Loops: lists\n",
    "A while loop isn’t only good for counting! Similar to how we saw for loops working with lists, we can use while loops to iterate through a list as well."
   ]
  },
  {
   "cell_type": "code",
   "execution_count": 1,
   "metadata": {},
   "outputs": [],
   "source": [
    "ingredients = [\"milk\", \"sugar\", \"vanilla extract\", \"dough\", \"chocolate\"]"
   ]
  },
  {
   "cell_type": "code",
   "execution_count": 2,
   "metadata": {},
   "outputs": [],
   "source": [
    "length = len(ingredients)"
   ]
  },
  {
   "cell_type": "code",
   "execution_count": 3,
   "metadata": {},
   "outputs": [
    {
     "name": "stdout",
     "output_type": "stream",
     "text": [
      "I am learning about variables\n",
      "I am learning about control flow\n",
      "I am learning about loops\n",
      "I am learning about modules\n",
      "I am learning about classes\n"
     ]
    }
   ],
   "source": [
    "python_topics = [\"variables\", \"control flow\", \"loops\", \"modules\", \"classes\"]\n",
    "\n",
    "length = len(python_topics)\n",
    "index = 0\n",
    "\n",
    "while index < length:\n",
    "  print(\"I am learning about \" + python_topics[index])\n",
    "  index += 1"
   ]
  },
  {
   "cell_type": "code",
   "execution_count": 4,
   "metadata": {},
   "outputs": [],
   "source": [
    "my_favorite_numbers = [4, 8, 15, 16, 42]"
   ]
  },
  {
   "cell_type": "markdown",
   "metadata": {},
   "source": [
    "for number in my_favorite_numbers:\n",
    "  my_favorite_numbers.append(1)"
   ]
  },
  {
   "cell_type": "markdown",
   "metadata": {},
   "source": [
    "students_period_A = [\"Alex\", \"Briana\", \"Cheri\", \"Daniele\"]\n",
    "students_period_B = [\"Dora\", \"Minerva\", \"Alexa\", \"Obie\"]"
   ]
  },
  {
   "cell_type": "markdown",
   "metadata": {},
   "source": [
    "for student in students_period_A:\n",
    "  students_period_A.append(student)\n",
    "  print(student)"
   ]
  },
  {
   "cell_type": "markdown",
   "metadata": {},
   "source": [
    "# Loop Control: Break\n",
    "\n",
    "Loops in Python are very versatile. Python provides a set of control statements that we can use to get even more control out of our loops."
   ]
  },
  {
   "cell_type": "code",
   "execution_count": 1,
   "metadata": {},
   "outputs": [],
   "source": [
    "items_on_sale = [\"blue shirt\", \"striped socks\", \"knit dress\", \"red headband\", \"dinosaur onesie\"]"
   ]
  },
  {
   "cell_type": "code",
   "execution_count": 2,
   "metadata": {},
   "outputs": [
    {
     "name": "stdout",
     "output_type": "stream",
     "text": [
      "Found it\n"
     ]
    }
   ],
   "source": [
    "for item in items_on_sale:\n",
    "  if item == \"knit dress\":\n",
    "    print(\"Found it\")"
   ]
  },
  {
   "cell_type": "code",
   "execution_count": 4,
   "metadata": {},
   "outputs": [
    {
     "name": "stdout",
     "output_type": "stream",
     "text": [
      "Checking the sale list!\n",
      "blue shirt\n",
      "striped socks\n",
      "knit dress\n",
      "End of search!\n"
     ]
    }
   ],
   "source": [
    "items_on_sale = [\"blue shirt\", \"striped socks\", \"knit dress\", \"red headband\", \"dinosaur onesie\"]\n",
    " \n",
    "print(\"Checking the sale list!\")\n",
    "for item in items_on_sale:\n",
    "  print(item)\n",
    "  if item == \"knit dress\":\n",
    "    break\n",
    "print(\"End of search!\")\n",
    "# you can stop iteration from inside the loop by using break loop control statement.\n",
    "#When the program hits a break statement it immediately terminates a loop. "
   ]
  },
  {
   "cell_type": "code",
   "execution_count": 7,
   "metadata": {},
   "outputs": [],
   "source": [
    "dog_breeds_available_for_adoption = [\"french_bulldog\", \"dalmatian\", \"shihtzu\", \"poodle\", \"collie\"]"
   ]
  },
  {
   "cell_type": "code",
   "execution_count": 8,
   "metadata": {},
   "outputs": [],
   "source": [
    "dog_breed_I_want = \"dalmatian\""
   ]
  },
  {
   "cell_type": "code",
   "execution_count": 9,
   "metadata": {},
   "outputs": [
    {
     "name": "stdout",
     "output_type": "stream",
     "text": [
      "french_bulldog\n",
      "dalmatian\n",
      "They have the dog I want!\n"
     ]
    }
   ],
   "source": [
    "for dog_breed in dog_breeds_available_for_adoption:\n",
    "  print(dog_breed)\n",
    "  if dog_breed == dog_breed_I_want:\n",
    "    print(\"They have the dog I want!\")\n",
    "    break"
   ]
  },
  {
   "cell_type": "code",
   "execution_count": 10,
   "metadata": {},
   "outputs": [
    {
     "name": "stdout",
     "output_type": "stream",
     "text": [
      "1\n",
      "2\n",
      "4\n",
      "5\n",
      "2\n"
     ]
    }
   ],
   "source": [
    "# Loop Control: Continue\n",
    "big_number_list = [1, 2, -1, 4, -5, 5, 2, -9]\n",
    "\n",
    "for i in big_number_list:\n",
    "  if i <= 0:\n",
    "    continue\n",
    "  print(i)"
   ]
  },
  {
   "cell_type": "markdown",
   "metadata": {},
   "source": [
    "Similar to when we were using the break control statement, our continue control statement is usually paired with some form of a conditional (if/elif/else).\n",
    "\n",
    "When our loop first encountered an element (-1) that met the conditions of the if statement, it checked the code inside the block and saw the continue. When the loop then encounters a continue statement it immediately skips the current iteration and moves onto the next element in the list (4).\n",
    "\n",
    "The output of the list only printed positive integers in the list because every time our loop entered the if statement and saw the continue statement it simply moved to the next iteration of the list and thus never reached the print statement."
   ]
  },
  {
   "cell_type": "code",
   "execution_count": 11,
   "metadata": {},
   "outputs": [],
   "source": [
    "ages = [12, 38, 34, 26, 21, 19, 67, 41, 17]"
   ]
  },
  {
   "cell_type": "code",
   "execution_count": 12,
   "metadata": {},
   "outputs": [
    {
     "name": "stdout",
     "output_type": "stream",
     "text": [
      "38\n",
      "34\n",
      "26\n",
      "21\n",
      "67\n",
      "41\n"
     ]
    }
   ],
   "source": [
    "for age in ages:\n",
    "  if age < 21:\n",
    "    continue\n",
    "  print(age)"
   ]
  },
  {
   "cell_type": "code",
   "execution_count": 13,
   "metadata": {},
   "outputs": [],
   "source": [
    "# Nested Loops\n",
    "project_teams = [[\"Ava\", \"Samantha\", \"James\"], [\"Lucille\", \"Zed\"], [\"Edgar\", \"Gabriel\"]]"
   ]
  },
  {
   "cell_type": "code",
   "execution_count": 14,
   "metadata": {},
   "outputs": [
    {
     "name": "stdout",
     "output_type": "stream",
     "text": [
      "['Ava', 'Samantha', 'James']\n",
      "['Lucille', 'Zed']\n",
      "['Edgar', 'Gabriel']\n"
     ]
    }
   ],
   "source": [
    "for team in project_teams:\n",
    "  print(team)"
   ]
  },
  {
   "cell_type": "code",
   "execution_count": 16,
   "metadata": {},
   "outputs": [
    {
     "name": "stdout",
     "output_type": "stream",
     "text": [
      "Ava\n",
      "Samantha\n",
      "James\n",
      "Lucille\n",
      "Zed\n",
      "Edgar\n",
      "Gabriel\n"
     ]
    }
   ],
   "source": [
    "for team in project_teams:\n",
    "    for student in team:\n",
    "        print(student)"
   ]
  },
  {
   "cell_type": "code",
   "execution_count": 17,
   "metadata": {},
   "outputs": [],
   "source": [
    "sales_data = [[12, 17, 22], [2, 10, 3], [5, 12, 13]]"
   ]
  },
  {
   "cell_type": "code",
   "execution_count": 19,
   "metadata": {},
   "outputs": [],
   "source": [
    "scoops_sold = 0\n",
    "\n"
   ]
  },
  {
   "cell_type": "code",
   "execution_count": 20,
   "metadata": {},
   "outputs": [
    {
     "name": "stdout",
     "output_type": "stream",
     "text": [
      "[12, 17, 22]\n",
      "[2, 10, 3]\n",
      "[5, 12, 13]\n",
      "96\n"
     ]
    }
   ],
   "source": [
    "for location in sales_data:\n",
    "  print(location)\n",
    "  for element in location:\n",
    "    scoops_sold += element\n",
    "    \n",
    "print(scoops_sold)"
   ]
  },
  {
   "cell_type": "code",
   "execution_count": 21,
   "metadata": {},
   "outputs": [
    {
     "name": "stdout",
     "output_type": "stream",
     "text": [
      "[4, -2, 158, 66, -90]\n"
     ]
    }
   ],
   "source": [
    "# List Comprehensions: Introduction\n",
    "numbers = [2, -1, 79, 33, -45]\n",
    "doubled = []\n",
    "\n",
    "for number in numbers:\n",
    "  doubled.append(number * 2)\n",
    "print(doubled)"
   ]
  },
  {
   "cell_type": "code",
   "execution_count": 22,
   "metadata": {},
   "outputs": [
    {
     "name": "stdout",
     "output_type": "stream",
     "text": [
      "[4, -2, 158, 66, -90]\n"
     ]
    }
   ],
   "source": [
    "numbers = [2, -1, 79, 33, -45]\n",
    "doubled = [num * 2 for num in numbers]\n",
    "print(doubled)"
   ]
  },
  {
   "cell_type": "markdown",
   "metadata": {},
   "source": [
    "new_list = [(expression) for (element) in (collection)]\n",
    "    \n",
    "In our doubled example, our list comprehension:\n",
    "Takes an element in the list numbers\n",
    "Assigns that element to a variable called num (our <element>)\n",
    "Applies the <expression> on the element stored in num and adds the result to a new list called doubled\n",
    "Repeats steps 1-3 for every other element in the numbers list (our <collection>)"
   ]
  },
  {
   "cell_type": "code",
   "execution_count": 23,
   "metadata": {},
   "outputs": [],
   "source": [
    "grades = [90, 88, 62, 76, 74, 89, 48, 57]"
   ]
  },
  {
   "cell_type": "code",
   "execution_count": 24,
   "metadata": {},
   "outputs": [],
   "source": [
    "scaled_grades = [grade + 10 for grade in grades]"
   ]
  },
  {
   "cell_type": "code",
   "execution_count": 25,
   "metadata": {},
   "outputs": [
    {
     "name": "stdout",
     "output_type": "stream",
     "text": [
      "[100, 98, 72, 86, 84, 99, 58, 67]\n"
     ]
    }
   ],
   "source": [
    "print(scaled_grades)"
   ]
  },
  {
   "cell_type": "code",
   "execution_count": 26,
   "metadata": {},
   "outputs": [
    {
     "name": "stdout",
     "output_type": "stream",
     "text": [
      "[-2, -90]\n"
     ]
    }
   ],
   "source": [
    "# List Comprehensions: Conditionals\n",
    "numbers = [2, -1, 79, 33, -45]\n",
    "only_negative_doubled = []\n",
    "\n",
    "for num in numbers:\n",
    "  if num < 0: \n",
    "    only_negative_doubled.append(num * 2)\n",
    " \n",
    "print(only_negative_doubled) "
   ]
  },
  {
   "cell_type": "code",
   "execution_count": 27,
   "metadata": {},
   "outputs": [
    {
     "name": "stdout",
     "output_type": "stream",
     "text": [
      "[-2, -90]\n"
     ]
    }
   ],
   "source": [
    "numbers = [2, -1, 79, 33, -45]\n",
    "negative_doubled = [num * 2 for num in numbers if num < 0]\n",
    "print(negative_doubled)"
   ]
  },
  {
   "cell_type": "markdown",
   "metadata": {},
   "source": [
    "###### In our negative_doubled example, our list comprehension:\n",
    "\n",
    "Takes an element in the list numbers.\n",
    "Assigns that element to a variable called num.\n",
    "Checks if the condition num < 0 is met by the element stored in num. If so, it goes to step 4, otherwise it skips it and goes to the next element in the list.\n",
    "Applies the expression num * 2 on the element stored in num and adds the result to a new list called negative_doubled\n",
    "Repeats steps 1-3 (and sometimes 4) for every other element in the numbers list."
   ]
  },
  {
   "cell_type": "code",
   "execution_count": 28,
   "metadata": {},
   "outputs": [
    {
     "name": "stdout",
     "output_type": "stream",
     "text": [
      "[6, -2, 237, 99, -90]\n"
     ]
    }
   ],
   "source": [
    "numbers = [2, -1, 79, 33, -45]\n",
    "doubled = [num * 2 if num < 0 else num * 3 for num in numbers ]\n",
    "print(doubled)"
   ]
  },
  {
   "cell_type": "code",
   "execution_count": 29,
   "metadata": {},
   "outputs": [],
   "source": [
    "heights = [161, 164, 156, 144, 158, 170, 163, 163, 157]"
   ]
  },
  {
   "cell_type": "code",
   "execution_count": 30,
   "metadata": {},
   "outputs": [
    {
     "name": "stdout",
     "output_type": "stream",
     "text": [
      "[164, 170, 163, 163]\n"
     ]
    }
   ],
   "source": [
    "heights = [161, 164, 156, 144, 158, 170, 163, 163, 157]\n",
    "\n",
    "can_ride_coaster = [height for height in heights if height > 161]\n",
    "\n",
    "print(can_ride_coaster)"
   ]
  },
  {
   "cell_type": "code",
   "execution_count": 35,
   "metadata": {},
   "outputs": [],
   "source": [
    "single_digits = list(range(10))"
   ]
  },
  {
   "cell_type": "code",
   "execution_count": 36,
   "metadata": {},
   "outputs": [
    {
     "data": {
      "text/plain": [
       "[0, 1, 2, 3, 4, 5, 6, 7, 8, 9]"
      ]
     },
     "execution_count": 36,
     "metadata": {},
     "output_type": "execute_result"
    }
   ],
   "source": [
    "single_digits"
   ]
  },
  {
   "cell_type": "code",
   "execution_count": 37,
   "metadata": {},
   "outputs": [],
   "source": [
    "single_digits = range(10)"
   ]
  },
  {
   "cell_type": "code",
   "execution_count": 38,
   "metadata": {},
   "outputs": [],
   "source": [
    "squares = []"
   ]
  },
  {
   "cell_type": "code",
   "execution_count": 39,
   "metadata": {},
   "outputs": [
    {
     "name": "stdout",
     "output_type": "stream",
     "text": [
      "0\n",
      "1\n",
      "2\n",
      "3\n",
      "4\n",
      "5\n",
      "6\n",
      "7\n",
      "8\n",
      "9\n"
     ]
    }
   ],
   "source": [
    "single_digits = range(10)\n",
    "squares = []\n",
    "for digit in single_digits:\n",
    "  print(digit)"
   ]
  },
  {
   "cell_type": "code",
   "execution_count": 40,
   "metadata": {},
   "outputs": [
    {
     "name": "stdout",
     "output_type": "stream",
     "text": [
      "0\n",
      "1\n",
      "2\n",
      "3\n",
      "4\n",
      "5\n",
      "6\n",
      "7\n",
      "8\n",
      "9\n",
      "[0, 1, 4, 9, 16, 25, 36, 49, 64, 81]\n"
     ]
    }
   ],
   "source": [
    "for digit in single_digits:\n",
    "  print(digit)\n",
    "  squares.append(digit** 2)\n",
    "print(squares)\n",
    "\n",
    "cubes = [digit**3 for digit in single_digits]"
   ]
  },
  {
   "cell_type": "code",
   "execution_count": 41,
   "metadata": {},
   "outputs": [
    {
     "name": "stdout",
     "output_type": "stream",
     "text": [
      "[0, 1, 8, 27, 64, 125, 216, 343, 512, 729]\n"
     ]
    }
   ],
   "source": [
    "print(cubes)"
   ]
  },
  {
   "cell_type": "markdown",
   "metadata": {},
   "source": [
    "# Double\n",
    "In Python, you can use * to multiply."
   ]
  },
  {
   "cell_type": "code",
   "execution_count": 1,
   "metadata": {},
   "outputs": [],
   "source": [
    "nums = [4, 8, 15, 16, 23, 42]\n",
    "double_nums = [num * 2 for num in nums]"
   ]
  },
  {
   "cell_type": "code",
   "execution_count": 2,
   "metadata": {},
   "outputs": [],
   "source": [
    "# Squares\n",
    "nums = range(11)\n",
    "squares = [num**2 for num in nums]"
   ]
  },
  {
   "cell_type": "code",
   "execution_count": 3,
   "metadata": {},
   "outputs": [
    {
     "data": {
      "text/plain": [
       "[0, 1, 4, 9, 16, 25, 36, 49, 64, 81, 100]"
      ]
     },
     "execution_count": 3,
     "metadata": {},
     "output_type": "execute_result"
    }
   ],
   "source": [
    "squares"
   ]
  },
  {
   "cell_type": "code",
   "execution_count": 4,
   "metadata": {},
   "outputs": [],
   "source": [
    "nums = [4, 8, 15, 16, 23, 42]\n",
    "add_ten = [num + 10 for num in nums]"
   ]
  },
  {
   "cell_type": "code",
   "execution_count": 5,
   "metadata": {},
   "outputs": [],
   "source": [
    "nums = [4, 8, 15, 16, 23, 42]\n",
    "divide_by_two = [num/2 for num in nums]"
   ]
  },
  {
   "cell_type": "code",
   "execution_count": 6,
   "metadata": {},
   "outputs": [],
   "source": [
    "# Parity\n",
    "nums = [4, 8, 15, 16, 23, 42]\n",
    "parity = [num % 2 for num in nums]"
   ]
  },
  {
   "cell_type": "code",
   "execution_count": 7,
   "metadata": {},
   "outputs": [],
   "source": [
    "names = [\"Elaine\", \"George\", \"Jerry\", \"Cosmo\"]\n",
    "greetings = [\"Hello, \" + name for name in names]"
   ]
  },
  {
   "cell_type": "code",
   "execution_count": 8,
   "metadata": {},
   "outputs": [],
   "source": [
    "names = [\"Elaine\", \"George\", \"Jerry\", \"Cosmo\"]\n",
    "first_character = [name[0] for name in names]"
   ]
  },
  {
   "cell_type": "code",
   "execution_count": null,
   "metadata": {},
   "outputs": [],
   "source": []
  }
 ],
 "metadata": {
  "kernelspec": {
   "display_name": "Python 3",
   "language": "python",
   "name": "python3"
  },
  "language_info": {
   "codemirror_mode": {
    "name": "ipython",
    "version": 3
   },
   "file_extension": ".py",
   "mimetype": "text/x-python",
   "name": "python",
   "nbconvert_exporter": "python",
   "pygments_lexer": "ipython3",
   "version": "3.7.6"
  }
 },
 "nbformat": 4,
 "nbformat_minor": 4
}
