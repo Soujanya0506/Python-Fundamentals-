{
 "cells": [
  {
   "cell_type": "markdown",
   "metadata": {},
   "source": [
    "# Introduction to Functions\n",
    "A function is a collection of several lines of code. By calling a function, we can call all of these lines of code at once, without having to repeat ourselves."
   ]
  },
  {
   "cell_type": "markdown",
   "metadata": {},
   "source": [
    "In order to call a function, we use the syntax function_name()."
   ]
  },
  {
   "cell_type": "code",
   "execution_count": 1,
   "metadata": {},
   "outputs": [],
   "source": [
    "def sing_song():\n",
    "  print(\"You may say I'm a dreamer\")\n",
    "  print(\"But I'm not the only one\")\n",
    "  print(\"I hope some day you'll join us\")\n",
    "  print(\"And the world will be as one\")"
   ]
  },
  {
   "cell_type": "code",
   "execution_count": 2,
   "metadata": {},
   "outputs": [
    {
     "name": "stdout",
     "output_type": "stream",
     "text": [
      "You may say I'm a dreamer\n",
      "But I'm not the only one\n",
      "I hope some day you'll join us\n",
      "And the world will be as one\n"
     ]
    }
   ],
   "source": [
    "sing_song()"
   ]
  },
  {
   "cell_type": "code",
   "execution_count": 3,
   "metadata": {},
   "outputs": [
    {
     "name": "stdout",
     "output_type": "stream",
     "text": [
      "Welcome to Engrossing Grocers.\n",
      "Our special is mandarin oranges.\n",
      "Have fun shopping!\n"
     ]
    }
   ],
   "source": [
    "def greet_customer():\n",
    "  print(\"Welcome to Engrossing Grocers.\")\n",
    "  print(\"Our special is mandarin oranges.\")\n",
    "  print(\"Have fun shopping!\")\n",
    " \n",
    "greet_customer()"
   ]
  },
  {
   "cell_type": "code",
   "execution_count": 4,
   "metadata": {},
   "outputs": [],
   "source": [
    "def loading_screen():\n",
    "  print(\"This page is loading...\")"
   ]
  },
  {
   "cell_type": "code",
   "execution_count": 5,
   "metadata": {},
   "outputs": [
    {
     "name": "stdout",
     "output_type": "stream",
     "text": [
      "This page is loading...\n"
     ]
    }
   ],
   "source": [
    "loading_screen()"
   ]
  },
  {
   "cell_type": "code",
   "execution_count": 6,
   "metadata": {},
   "outputs": [
    {
     "name": "stdout",
     "output_type": "stream",
     "text": [
      "This computer is running on version Everest Puma\n",
      "This is your desktop\n"
     ]
    }
   ],
   "source": [
    "def about_this_computer():\n",
    "  print(\"This computer is running on version Everest Puma\")\n",
    "  print(\"This is your desktop\")\n",
    "\n",
    "about_this_computer()\n"
   ]
  },
  {
   "cell_type": "code",
   "execution_count": 7,
   "metadata": {},
   "outputs": [],
   "source": [
    "# if we remove indent"
   ]
  },
  {
   "cell_type": "code",
   "execution_count": 8,
   "metadata": {},
   "outputs": [
    {
     "name": "stdout",
     "output_type": "stream",
     "text": [
      "This is your desktop\n",
      "This computer is running on version Everest Puma\n"
     ]
    }
   ],
   "source": [
    "def about_this_computer():\n",
    "  print(\"This computer is running on version Everest Puma\")\n",
    "print(\"This is your desktop\")\n",
    "\n",
    "about_this_computer()"
   ]
  },
  {
   "cell_type": "code",
   "execution_count": 1,
   "metadata": {},
   "outputs": [],
   "source": [
    "# Parameters: We can use parameters, which are variables that you can pass into the function when you call it."
   ]
  },
  {
   "cell_type": "code",
   "execution_count": 2,
   "metadata": {},
   "outputs": [],
   "source": [
    "def greet_customer(special_item):\n",
    "  print(\"Welcome to Engrossing Grocers.\")\n",
    "  print(\"Our special is \" + special_item + \".\")\n",
    "  print(\"Have fun shopping!\")"
   ]
  },
  {
   "cell_type": "code",
   "execution_count": 9,
   "metadata": {},
   "outputs": [
    {
     "name": "stdout",
     "output_type": "stream",
     "text": [
      "Welcome to Engrossing Grocers.\n",
      "Our special is Tomato Soup.\n",
      "Have fun shopping!\n"
     ]
    }
   ],
   "source": [
    "greet_customer(\"Tomato Soup\")"
   ]
  },
  {
   "cell_type": "code",
   "execution_count": 10,
   "metadata": {},
   "outputs": [],
   "source": [
    "special_item = \"peanut butter\""
   ]
  },
  {
   "cell_type": "code",
   "execution_count": 12,
   "metadata": {},
   "outputs": [
    {
     "name": "stdout",
     "output_type": "stream",
     "text": [
      "Welcome to Engrossing Grocers.\n",
      "Our special is peanut butter.\n",
      "Have fun shopping!\n"
     ]
    }
   ],
   "source": [
    "greet_customer(special_item)"
   ]
  },
  {
   "cell_type": "code",
   "execution_count": 14,
   "metadata": {},
   "outputs": [],
   "source": [
    "def mult_two_add_three():\n",
    "  number = 5\n",
    "  print(number*2 + 3)"
   ]
  },
  {
   "cell_type": "code",
   "execution_count": 15,
   "metadata": {},
   "outputs": [
    {
     "name": "stdout",
     "output_type": "stream",
     "text": [
      "13\n"
     ]
    }
   ],
   "source": [
    "mult_two_add_three()"
   ]
  },
  {
   "cell_type": "code",
   "execution_count": 17,
   "metadata": {},
   "outputs": [
    {
     "name": "stdout",
     "output_type": "stream",
     "text": [
      "13\n"
     ]
    }
   ],
   "source": [
    "def mult_two_add_three(number):\n",
    "  print(number*2+3)\n",
    "\n",
    "mult_two_add_three(5)"
   ]
  },
  {
   "cell_type": "code",
   "execution_count": 18,
   "metadata": {},
   "outputs": [
    {
     "name": "stdout",
     "output_type": "stream",
     "text": [
      "1\n"
     ]
    }
   ],
   "source": [
    "mult_two_add_three(-1)"
   ]
  },
  {
   "cell_type": "code",
   "execution_count": 19,
   "metadata": {},
   "outputs": [
    {
     "name": "stdout",
     "output_type": "stream",
     "text": [
      "3\n"
     ]
    }
   ],
   "source": [
    "mult_two_add_three(0)"
   ]
  },
  {
   "cell_type": "code",
   "execution_count": 20,
   "metadata": {},
   "outputs": [],
   "source": [
    "# Multiple Parameters\n",
    "def greet_customer(grocery_store, special_item):\n",
    "  print(\"Welcome to \"+ grocery_store + \".\")\n",
    "  print(\"Our special is \" + special_item + \".\")\n",
    "  print(\"Have fun shopping!\")"
   ]
  },
  {
   "cell_type": "code",
   "execution_count": 21,
   "metadata": {},
   "outputs": [
    {
     "name": "stdout",
     "output_type": "stream",
     "text": [
      "Welcome to Stu's Staples.\n",
      "Our special is papayas.\n",
      "Have fun shopping!\n"
     ]
    }
   ],
   "source": [
    "greet_customer(\"Stu's Staples\", \"papayas\")"
   ]
  },
  {
   "cell_type": "code",
   "execution_count": 22,
   "metadata": {},
   "outputs": [
    {
     "name": "stdout",
     "output_type": "stream",
     "text": [
      "13\n",
      "4\n"
     ]
    }
   ],
   "source": [
    "def mult_x_add_y(number,x,y):\n",
    "  print(number*x + y)\n",
    "  \n",
    "mult_x_add_y(5,2,3)\n",
    "mult_x_add_y(1,3,1)"
   ]
  },
  {
   "cell_type": "code",
   "execution_count": 23,
   "metadata": {},
   "outputs": [],
   "source": [
    "# Keyword Argument"
   ]
  },
  {
   "cell_type": "code",
   "execution_count": 24,
   "metadata": {},
   "outputs": [],
   "source": [
    "def greet_customer(grocery_store, special_item):\n",
    "  print(\"Welcome to \"+ grocery_store + \".\")\n",
    "  print(\"Our special is \" + special_item + \".\")\n",
    "  print(\"Have fun shopping!\")"
   ]
  },
  {
   "cell_type": "code",
   "execution_count": 25,
   "metadata": {},
   "outputs": [
    {
     "name": "stdout",
     "output_type": "stream",
     "text": [
      "Welcome to Stu's Staples.\n",
      "Our special is chips and salsa.\n",
      "Have fun shopping!\n"
     ]
    }
   ],
   "source": [
    "greet_customer(special_item=\"chips and salsa\", grocery_store=\"Stu's Staples\")"
   ]
  },
  {
   "cell_type": "code",
   "execution_count": 26,
   "metadata": {},
   "outputs": [],
   "source": [
    "def greet_customer(special_item, grocery_store=\"Engrossing Grocers\"):\n",
    "  print(\"Welcome to \"+ grocery_store + \".\")\n",
    "  print(\"Our special is \" + special_item + \".\")\n",
    "  print(\"Have fun shopping!\")"
   ]
  },
  {
   "cell_type": "code",
   "execution_count": 28,
   "metadata": {},
   "outputs": [
    {
     "name": "stdout",
     "output_type": "stream",
     "text": [
      "Welcome to Engrossing Grocers.\n",
      "Our special is Anime Merchandise.\n",
      "Have fun shopping!\n"
     ]
    }
   ],
   "source": [
    "greet_customer(\"Anime Merchandise\")"
   ]
  },
  {
   "cell_type": "code",
   "execution_count": 30,
   "metadata": {},
   "outputs": [
    {
     "name": "stdout",
     "output_type": "stream",
     "text": [
      "Creating a spreadsheet called Downloads\n"
     ]
    }
   ],
   "source": [
    "# Define create_spreadsheet():\n",
    "def create_spreadsheet(title):\n",
    "  print(\"Creating a spreadsheet called \"+title)\n",
    "\n",
    "# Call create_spreadsheet() below with the required arguments:\n",
    "create_spreadsheet(\"Downloads\")"
   ]
  },
  {
   "cell_type": "code",
   "execution_count": 31,
   "metadata": {},
   "outputs": [
    {
     "name": "stdout",
     "output_type": "stream",
     "text": [
      "Creating a spreadsheet called Downloads\n"
     ]
    }
   ],
   "source": [
    "def create_spreadsheet(title,row_count):\n",
    "  print(\"Creating a spreadsheet called \"+title)\n",
    "create_spreadsheet(\"Downloads\", 1000)"
   ]
  },
  {
   "cell_type": "code",
   "execution_count": 35,
   "metadata": {},
   "outputs": [
    {
     "name": "stdout",
     "output_type": "stream",
     "text": [
      "Creating a spreadsheet called Downloads with 1000 rows\n"
     ]
    }
   ],
   "source": [
    "def create_spreadsheet(title,row_count):\n",
    "  print(\"Creating a spreadsheet called \"+title + \" with \"+ str(row_count) + \" rows\")\n",
    "create_spreadsheet(\"Downloads\", 1000)"
   ]
  },
  {
   "cell_type": "markdown",
   "metadata": {},
   "source": [
    "### Remember, to concatenate a number to a string object, you’ll first have to cast row_count to a string using str(). Otherwise, you’ll get a TypeError."
   ]
  },
  {
   "cell_type": "code",
   "execution_count": 36,
   "metadata": {},
   "outputs": [
    {
     "name": "stdout",
     "output_type": "stream",
     "text": [
      "Creating a spreadsheet called Applications with 10 rows\n"
     ]
    }
   ],
   "source": [
    "create_spreadsheet(\"Applications\",10)"
   ]
  },
  {
   "cell_type": "code",
   "execution_count": 37,
   "metadata": {},
   "outputs": [],
   "source": [
    "# Returns\n",
    "def divide_by_four(input_number):\n",
    "  return input_number/4"
   ]
  },
  {
   "cell_type": "code",
   "execution_count": 38,
   "metadata": {},
   "outputs": [
    {
     "name": "stdout",
     "output_type": "stream",
     "text": [
      "16 divided by 4 is 4.0!\n",
      "4.0 divided by 4 is 1.0!\n"
     ]
    }
   ],
   "source": [
    "result = divide_by_four(16)\n",
    "# result now holds 4\n",
    "print(\"16 divided by 4 is \" + str(result) + \"!\")\n",
    "result2 = divide_by_four(result)\n",
    "print(str(result) + \" divided by 4 is \" + str(result2) + \"!\")"
   ]
  },
  {
   "cell_type": "code",
   "execution_count": 39,
   "metadata": {},
   "outputs": [
    {
     "name": "stdout",
     "output_type": "stream",
     "text": [
      "Our special is banana yogurt.\n"
     ]
    }
   ],
   "source": [
    "def create_special_string(special_item):\n",
    "  return \"Our special is \" + special_item + \".\"\n",
    " \n",
    "special_string = create_special_string(\"banana yogurt\")\n",
    " \n",
    "print(special_string)"
   ]
  },
  {
   "cell_type": "code",
   "execution_count": 41,
   "metadata": {},
   "outputs": [],
   "source": [
    "#Calculating age\n",
    "def calculate_age(current_year, birth_year):\n",
    "  age = current_year - birth_year\n",
    "  return(age)"
   ]
  },
  {
   "cell_type": "code",
   "execution_count": 42,
   "metadata": {},
   "outputs": [],
   "source": [
    "my_age = calculate_age(2049, 1993)"
   ]
  },
  {
   "cell_type": "code",
   "execution_count": 44,
   "metadata": {},
   "outputs": [
    {
     "name": "stdout",
     "output_type": "stream",
     "text": [
      "I am 56 years old and my dad is 96 years old\n"
     ]
    }
   ],
   "source": [
    "dads_age = calculate_age(2049, 1953)\n",
    "print(\"I am \" + str(my_age) + \" years old and my dad is \"+ str(dads_age) + \" years old\")"
   ]
  },
  {
   "cell_type": "code",
   "execution_count": 45,
   "metadata": {},
   "outputs": [],
   "source": [
    "# Multiple Return Values\n",
    "def square_point(x_value, y_value):\n",
    "  x_2 = x_value * x_value\n",
    "  y_2 = y_value * y_value\n",
    "  return x_2, y_2"
   ]
  },
  {
   "cell_type": "code",
   "execution_count": 46,
   "metadata": {},
   "outputs": [
    {
     "name": "stdout",
     "output_type": "stream",
     "text": [
      "1\n",
      "9\n"
     ]
    }
   ],
   "source": [
    "x_squared, y_squared = square_point(1, 3)\n",
    "print(x_squared)\n",
    "print(y_squared)"
   ]
  },
  {
   "cell_type": "code",
   "execution_count": 47,
   "metadata": {},
   "outputs": [],
   "source": [
    "def get_boundaries(target, margin):\n",
    "  low_limit = target - margin\n",
    "  high_limit = margin + target\n",
    "  return(low_limit, high_limit)\n",
    "low, high = get_boundaries(100, 20)"
   ]
  },
  {
   "cell_type": "code",
   "execution_count": 48,
   "metadata": {},
   "outputs": [
    {
     "name": "stdout",
     "output_type": "stream",
     "text": [
      "I don't like peanut butter\n"
     ]
    }
   ],
   "source": [
    "# Scope\n",
    "def create_special_string(special_item):\n",
    "  return \"Our special is \" + special_item + \".\"\n",
    " \n",
    "print(\"I don't like \" + special_item)"
   ]
  },
  {
   "cell_type": "code",
   "execution_count": 49,
   "metadata": {},
   "outputs": [
    {
     "name": "stdout",
     "output_type": "stream",
     "text": [
      "Our special is grapes.\n"
     ]
    }
   ],
   "source": [
    "header_string = \"Our special is \" \n",
    " \n",
    "def create_special_string(special_item):\n",
    "  return header_string + special_item + \".\"\n",
    "print(create_special_string(\"grapes\"))"
   ]
  },
  {
   "cell_type": "code",
   "execution_count": 50,
   "metadata": {},
   "outputs": [
    {
     "data": {
      "text/plain": [
       "78"
      ]
     },
     "execution_count": 50,
     "metadata": {},
     "output_type": "execute_result"
    }
   ],
   "source": [
    "current_year = 2048\n",
    "def calculate_age(birth_year):\n",
    "  age = current_year - birth_year\n",
    "  return age\n",
    "calculate_age(1970)"
   ]
  },
  {
   "cell_type": "code",
   "execution_count": 52,
   "metadata": {},
   "outputs": [
    {
     "name": "stdout",
     "output_type": "stream",
     "text": [
      "Row Row Row Your Boat. Row Row Row Your Boat. Row Row Row Your Boat. Row Row Row Your Boat. Row Row Row Your Boat. Row Row Row Your Boat. Row Row Row Your Boat. Row Row Row Your Boat. Row Row Row Your Boat. Row Row Row Your Boat. \n"
     ]
    }
   ],
   "source": [
    "def repeat_stuff(stuff,num_repeats = 10):\n",
    "  return stuff*num_repeats\n",
    "lyrics = repeat_stuff(\"Row \",3) + \"Your Boat. \"\n",
    "song = repeat_stuff(lyrics)\n",
    "print(song)"
   ]
  },
  {
   "cell_type": "code",
   "execution_count": 56,
   "metadata": {},
   "outputs": [
    {
     "data": {
      "text/plain": [
       "-14"
      ]
     },
     "execution_count": 56,
     "metadata": {},
     "output_type": "execute_result"
    }
   ],
   "source": [
    "# a function that returns the sum of the first and last elements of a given list might look like this:\n",
    "\n",
    "def first_plus_last(lst):\n",
    "  return lst[0] + lst[-1]\n",
    "\n",
    "first_plus_last([-10, 2, 3, -4])\n"
   ]
  },
  {
   "cell_type": "markdown",
   "metadata": {},
   "source": [
    "# C1:1. Tenth Power\n",
    "Let’s create some functions which can help us solve math problems! For this first function, we are going to take the tenth power of a number. In order to do this we need to do three things:\n",
    "\n",
    "Set up the function header for tenth_power which accepts one parameter\n",
    "Take the tenth power of the input value\n",
    "Return the result"
   ]
  },
  {
   "cell_type": "code",
   "execution_count": 57,
   "metadata": {},
   "outputs": [
    {
     "data": {
      "text/plain": [
       "1024"
      ]
     },
     "execution_count": 57,
     "metadata": {},
     "output_type": "execute_result"
    }
   ],
   "source": [
    "def tenth_power(input):\n",
    "    return input**10\n",
    "# The function should return num raised to the 10th power.\n",
    "tenth_power(2)"
   ]
  },
  {
   "cell_type": "markdown",
   "metadata": {},
   "source": [
    "# 2. Square Root\n",
    "Another useful function for solving math problems is the square root function. We can create this using similar steps from the last problem. The code will look very similar. We need to:\n",
    "\n",
    "Set up the function header for square_root which accepts one parameter\n",
    "Take the square root of the input value\n",
    "Return the result\n"
   ]
  },
  {
   "cell_type": "code",
   "execution_count": 58,
   "metadata": {},
   "outputs": [
    {
     "data": {
      "text/plain": [
       "2.0"
      ]
     },
     "execution_count": 58,
     "metadata": {},
     "output_type": "execute_result"
    }
   ],
   "source": [
    "def square_root(num):\n",
    "    return num**0.5\n",
    "square_root(4)"
   ]
  },
  {
   "cell_type": "markdown",
   "metadata": {},
   "source": [
    "# 3. Win Percentage\n",
    "Next, we will create a function which calculates the percentage of games won. In order to do this, we will need to know how many total games there were and divide the number of wins by the total number of games. For this function, there will be two input parameters, the number of wins and the number of losses. We also need to make sure that we return the result as a percentage (in the range of 0 to 100). In order to create this method we need the following steps:\n",
    "\n",
    "Define the function header with two parameters, wins and losses\n",
    "Calculate the total number of games using the number of wins and losses\n",
    "Get the ratio of winning using the number of wins out of the total number of games.\n",
    "Convert the ratio to a percentage\n",
    "Return the percentage"
   ]
  },
  {
   "cell_type": "code",
   "execution_count": 59,
   "metadata": {},
   "outputs": [],
   "source": [
    "def win_percentage(wins,losses):\n",
    "    TG = wins + losses\n",
    "    Win_Ratio = wins/TG\n",
    "    return Win_Ratio * 100"
   ]
  },
  {
   "cell_type": "code",
   "execution_count": 60,
   "metadata": {},
   "outputs": [
    {
     "data": {
      "text/plain": [
       "40.0"
      ]
     },
     "execution_count": 60,
     "metadata": {},
     "output_type": "execute_result"
    }
   ],
   "source": [
    "win_percentage(2,3)"
   ]
  },
  {
   "cell_type": "markdown",
   "metadata": {},
   "source": [
    "# 4. Average\n",
    "Let’s create a function which takes the average of two numbers. These two numbers will be the input of the function and the output will be the average of the two. In order to do this, we need to do a few steps:\n",
    "\n",
    "Define the function with two input parameters, num1 and num2\n",
    "Calculate the sum of the two numbers\n",
    "Divide the sum by the number of inputs to the function\n",
    "Return the answer"
   ]
  },
  {
   "cell_type": "code",
   "execution_count": 61,
   "metadata": {},
   "outputs": [
    {
     "data": {
      "text/plain": [
       "3.0"
      ]
     },
     "execution_count": 61,
     "metadata": {},
     "output_type": "execute_result"
    }
   ],
   "source": [
    "def average(num1,num2):\n",
    "    Add = num1+num2\n",
    "    return Add/2\n",
    "average(4,2)"
   ]
  },
  {
   "cell_type": "markdown",
   "metadata": {},
   "source": [
    "# 5. Remainder\n",
    "For the final challenge in this group, we are going to take the remainder of two numbers while performing other mathematical operations on them. We are going to multiply the numerator by 2 and divide the denominator by 2. After the two values have been modified, we will divide them and return the remainder. In order to do this we will need to:\n",
    "\n",
    "Define the function to accept two parameters\n",
    "Multiply the first input value by 2\n",
    "Divide the second input value by 2\n",
    "Calculate the remainder of the modified first input value divided by the modified second input value (using modulus)\n",
    "Return the answer"
   ]
  },
  {
   "cell_type": "code",
   "execution_count": 63,
   "metadata": {},
   "outputs": [
    {
     "data": {
      "text/plain": [
       "0.0"
      ]
     },
     "execution_count": 63,
     "metadata": {},
     "output_type": "execute_result"
    }
   ],
   "source": [
    "def remainder(num1,num2):\n",
    "    return 2 * num1 % (num2/2)\n",
    "remainder(9,6)"
   ]
  },
  {
   "cell_type": "markdown",
   "metadata": {},
   "source": [
    "# 1. First Three Multiples\n",
    "Let’s start by creating a function which both prints and returns values. For this function, we are going to print out the first three multiples of a number and return the third multiple. This means that we are going to print 1, 2, and 3 times the input number and then return the value of 3 times the input number. For this, we are going to need a few steps:\n",
    "\n",
    "Define the function header to accept one input parameter called num\n",
    "Print out 1 times num\n",
    "Print out 2 times num\n",
    "Print out 3 times num\n",
    "Return the value of 3 times num"
   ]
  },
  {
   "cell_type": "code",
   "execution_count": 65,
   "metadata": {},
   "outputs": [],
   "source": [
    "def first_three_multiples(num):\n",
    "    print(num)\n",
    "    print(num*2)\n",
    "    print(num*3)\n",
    "    return 3*num"
   ]
  },
  {
   "cell_type": "code",
   "execution_count": 66,
   "metadata": {},
   "outputs": [
    {
     "name": "stdout",
     "output_type": "stream",
     "text": [
      "7\n",
      "14\n",
      "21\n"
     ]
    },
    {
     "data": {
      "text/plain": [
       "21"
      ]
     },
     "execution_count": 66,
     "metadata": {},
     "output_type": "execute_result"
    }
   ],
   "source": [
    "first_three_multiples(7)"
   ]
  },
  {
   "cell_type": "markdown",
   "metadata": {},
   "source": [
    "# 2. Tip\n",
    "Let’s say we are going to a restaurant and we decide to leave a tip. We can create a function to easily calculate the amount to tip based on the total cost of the food and a percentage. This function will accept both of those values as inputs and return the amount of money to tip. In order to do this, we will need a few steps:\n",
    "\n",
    "Define the function to accept the total cost of the food called total and the percentage to tip as percentage\n",
    "Calculate the tip amount by multiplying the total and percentage and dividing by 100\n",
    "Return the tip amount"
   ]
  },
  {
   "cell_type": "code",
   "execution_count": 67,
   "metadata": {},
   "outputs": [],
   "source": [
    "def tip(total,percentage):\n",
    "    return (total*percentage)/100"
   ]
  },
  {
   "cell_type": "code",
   "execution_count": 68,
   "metadata": {},
   "outputs": [
    {
     "data": {
      "text/plain": [
       "2.5"
      ]
     },
     "execution_count": 68,
     "metadata": {},
     "output_type": "execute_result"
    }
   ],
   "source": [
    "tip(10,25)"
   ]
  },
  {
   "cell_type": "markdown",
   "metadata": {},
   "source": [
    "# 3. Bond, James Bond\n",
    "It’s time to re-create a famous movie scene through code. Our function is going to concatenate strings together in order to replace James Bond’s name with whatever name we want. The input to our function will be two strings, one for a first name and another for a last name. The function will return a string consisting of the famous phrase but replaced with our inputs. To accomplish this, we need to:\n",
    "\n",
    "Define the function to accept two parameters, first_name and last_name\n",
    "Concatenate the string ', ' on to the last_name\n",
    "Concatenate the first_name on to the result of the previous step\n",
    "Concatenate a space on to the result\n",
    "Concatenate the last_name again to the result\n",
    "Return the final string"
   ]
  },
  {
   "cell_type": "code",
   "execution_count": 71,
   "metadata": {},
   "outputs": [],
   "source": [
    "def introduction(first_name, last_name):\n",
    "  return last_name + \", \" + first_name + \" \" + last_name"
   ]
  },
  {
   "cell_type": "code",
   "execution_count": 72,
   "metadata": {},
   "outputs": [
    {
     "data": {
      "text/plain": [
       "'Bond, James Bond'"
      ]
     },
     "execution_count": 72,
     "metadata": {},
     "output_type": "execute_result"
    }
   ],
   "source": [
    "introduction(\"James\", \"Bond\")"
   ]
  },
  {
   "cell_type": "markdown",
   "metadata": {},
   "source": [
    "# 4. Dog Years\n",
    "Let’s create a function which calculates a dog’s age in dog years! This function will accept the name of the dog and the age in human years. It will calculate the age of the dog in dog years and return a string describing the dog’s age. This will require a few steps:\n",
    "\n",
    "Define the function called dog_years to accept two parameters: name and age\n",
    "Calculate the age of the dog in dog years\n",
    "Concatenate the string with the dog’s name and age in dog years\n",
    "Return the resulting string"
   ]
  },
  {
   "cell_type": "code",
   "execution_count": 73,
   "metadata": {},
   "outputs": [],
   "source": [
    "def dog_years(name, age):\n",
    "  return name+\", you are \"+str(age * 7)+\" years old in dog years\""
   ]
  },
  {
   "cell_type": "code",
   "execution_count": 74,
   "metadata": {},
   "outputs": [
    {
     "data": {
      "text/plain": [
       "'Lola, you are 112 years old in dog years'"
      ]
     },
     "execution_count": 74,
     "metadata": {},
     "output_type": "execute_result"
    }
   ],
   "source": [
    "dog_years(\"Lola\", 16)"
   ]
  },
  {
   "cell_type": "markdown",
   "metadata": {},
   "source": [
    "# 5. All Operations\n",
    "For the final code challenge, we are going to perform multiple mathematical operations on multiple inputs to the function. We will begin with adding the first two inputs, then we will subtract the third and fourth inputs. After that, we will multiply the first result and the second result. In the end, we will return the remainder of the previous result divided by the first input. We will also print each of the steps. The steps needed to complete this are:\n",
    "\n",
    "Define the function to accept four inputs: a, b, c, and d\n",
    "Print and store the result of a + b\n",
    "Print and store the result of c - d\n",
    "Print and store the first result times the second result\n",
    "Return the previous result modulo a"
   ]
  },
  {
   "cell_type": "code",
   "execution_count": 77,
   "metadata": {},
   "outputs": [],
   "source": [
    "def lots_of_math(a, b, c, d):\n",
    "  first = a + b\n",
    "  second = c - d\n",
    "  third = first * second\n",
    "  fourth = third % a\n",
    "  print(first)\n",
    "  print(second)\n",
    "  print(third)\n",
    "  return fourth"
   ]
  },
  {
   "cell_type": "code",
   "execution_count": 78,
   "metadata": {},
   "outputs": [
    {
     "name": "stdout",
     "output_type": "stream",
     "text": [
      "3\n",
      "-1\n",
      "-3\n"
     ]
    },
    {
     "data": {
      "text/plain": [
       "0"
      ]
     },
     "execution_count": 78,
     "metadata": {},
     "output_type": "execute_result"
    }
   ],
   "source": [
    "lots_of_math(1, 2, 3, 4)"
   ]
  },
  {
   "cell_type": "code",
   "execution_count": null,
   "metadata": {},
   "outputs": [],
   "source": []
  }
 ],
 "metadata": {
  "kernelspec": {
   "display_name": "Python 3",
   "language": "python",
   "name": "python3"
  },
  "language_info": {
   "codemirror_mode": {
    "name": "ipython",
    "version": 3
   },
   "file_extension": ".py",
   "mimetype": "text/x-python",
   "name": "python",
   "nbconvert_exporter": "python",
   "pygments_lexer": "ipython3",
   "version": "3.7.6"
  }
 },
 "nbformat": 4,
 "nbformat_minor": 4
}
