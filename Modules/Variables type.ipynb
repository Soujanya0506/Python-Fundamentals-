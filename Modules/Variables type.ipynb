{
 "cells": [
  {
   "cell_type": "markdown",
   "metadata": {},
   "source": [
    "## Variable Types : Categorical and Quantitative\n",
    "Categorical variables group observations into separate categories that can be ordered or unordered. \n",
    "Quantitative variables on the other hand are variables expressed numerically, whether as a count or measurement."
   ]
  },
  {
   "cell_type": "markdown",
   "metadata": {},
   "source": [
    "### Quantitative is of two main types: Discrete & Continuous ###\n",
    "***Continuous quantitative*** variables are numeric measurements that can be expressed with decimal precision. \n",
    "***Discrete quantitative*** variables are numeric values that represent counts and can only take on integer values. \n",
    "* Discrete cannot be broken down into smaller pieces, and as such cannot be meaningfully expressed with decimals or fractions. \n"
   ]
  },
  {
   "cell_type": "markdown",
   "metadata": {},
   "source": [
    "### Categorical variables focus on the different ways data can be grouped rather than counted or measured. \n",
    "- When the groupings have a specific order or ranking, the variable is an ***ordinal categorical variable***. \n",
    "- If there is no apparent order or ranking to the categories, we refer to the variable as a ***nominal categorical variable***."
   ]
  },
  {
   "cell_type": "markdown",
   "metadata": {},
   "source": [
    "- ***Ordinal variables***\n",
    "“strongly disagree” < “disagree “ < “neutral” < “agree” < “strongly agree”"
   ]
  },
  {
   "cell_type": "markdown",
   "metadata": {},
   "source": [
    "- ***Nominal categorical*** variables are those variables with two or more categories that do not have any relational order. \n",
    " Example: color\n",
    "- ***Binary or dichotomous*** variables are a special kind of nominal variable that have only two categories. \n",
    " For Example: 0 or 1"
   ]
  },
  {
   "cell_type": "code",
   "execution_count": null,
   "metadata": {},
   "outputs": [],
   "source": []
  }
 ],
 "metadata": {
  "kernelspec": {
   "display_name": "Python 3",
   "language": "python",
   "name": "python3"
  },
  "language_info": {
   "codemirror_mode": {
    "name": "ipython",
    "version": 3
   },
   "file_extension": ".py",
   "mimetype": "text/x-python",
   "name": "python",
   "nbconvert_exporter": "python",
   "pygments_lexer": "ipython3",
   "version": "3.7.6"
  }
 },
 "nbformat": 4,
 "nbformat_minor": 4
}
