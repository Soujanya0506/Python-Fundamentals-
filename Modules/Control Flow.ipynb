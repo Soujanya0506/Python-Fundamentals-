{
 "cells": [
  {
   "cell_type": "markdown",
   "metadata": {},
   "source": [
    "##### Boolean\n",
    "True or False"
   ]
  },
  {
   "cell_type": "markdown",
   "metadata": {},
   "source": [
    "### Relational Operators: Boolean expression is created using relational operators\n",
    "Equals and not equals\n",
    "Relational operators compare two items and return either True or False.\n",
    "\n",
    "The two relational operators are:\n",
    "\n",
    "Equals: ==\n",
    "\n",
    "Not equals: !="
   ]
  },
  {
   "cell_type": "code",
   "execution_count": 2,
   "metadata": {},
   "outputs": [
    {
     "data": {
      "text/plain": [
       "True"
      ]
     },
     "execution_count": 2,
     "metadata": {},
     "output_type": "execute_result"
    }
   ],
   "source": [
    "3 * (2 - 1) == 4 - 1"
   ]
  },
  {
   "cell_type": "code",
   "execution_count": 3,
   "metadata": {},
   "outputs": [
    {
     "data": {
      "text/plain": [
       "False"
      ]
     },
     "execution_count": 3,
     "metadata": {},
     "output_type": "execute_result"
    }
   ],
   "source": [
    "13 - 6 != (3 * 2) + 1"
   ]
  },
  {
   "cell_type": "code",
   "execution_count": 4,
   "metadata": {},
   "outputs": [
    {
     "data": {
      "text/plain": [
       "True"
      ]
     },
     "execution_count": 4,
     "metadata": {},
     "output_type": "execute_result"
    }
   ],
   "source": [
    "(5 * 2) - 1 == 8 + 1"
   ]
  },
  {
   "cell_type": "code",
   "execution_count": 5,
   "metadata": {},
   "outputs": [],
   "source": [
    "# Boolean variables: True and False are the only bool types, and any variable that is assigned one of these values is called a boolean variable.\n",
    "set_to_true = True\n",
    "set_to_false = False\n",
    "# boolean expression.\n",
    "bool_one = 5 != 7 \n",
    "bool_two = 1 + 1 != 2\n",
    "bool_three = 3 * 3 == 9"
   ]
  },
  {
   "cell_type": "code",
   "execution_count": 6,
   "metadata": {},
   "outputs": [
    {
     "name": "stdout",
     "output_type": "stream",
     "text": [
      "True\n",
      "False\n",
      "True\n"
     ]
    }
   ],
   "source": [
    "print(bool_one)    # True\n",
    " \n",
    "print(bool_two)    # False\n",
    " \n",
    "print(bool_three)  # True"
   ]
  },
  {
   "cell_type": "code",
   "execution_count": 7,
   "metadata": {},
   "outputs": [
    {
     "name": "stdout",
     "output_type": "stream",
     "text": [
      "<class 'str'>\n",
      "<class 'bool'>\n"
     ]
    }
   ],
   "source": [
    "my_baby_bool = \"true\"\n",
    "print(type(my_baby_bool))\n",
    "my_baby_bool_two = True\n",
    "print(type(my_baby_bool_two))"
   ]
  },
  {
   "cell_type": "code",
   "execution_count": 9,
   "metadata": {},
   "outputs": [
    {
     "name": "stdout",
     "output_type": "stream",
     "text": [
      "apple\n"
     ]
    }
   ],
   "source": [
    "# If Statement (donot miss == or the conditional statement)\n",
    "if 2 == 4 - 2: \n",
    "  print(\"apple\")"
   ]
  },
  {
   "cell_type": "code",
   "execution_count": 10,
   "metadata": {},
   "outputs": [
    {
     "name": "stdout",
     "output_type": "stream",
     "text": [
      "I know it is you, Dave! Go away!\n"
     ]
    }
   ],
   "source": [
    "# Enter a user name here, make sure to make it a string\n",
    "user_name = \"angela_catlady_87\"\n",
    "\n",
    "if user_name == \"Dave\":\n",
    "  print(\"Get off my computer Dave!\")\n",
    "if user_name == \"angela_catlady_87\":\n",
    "  print(\"I know it is you, Dave! Go away!\")\n"
   ]
  },
  {
   "cell_type": "markdown",
   "metadata": {},
   "source": [
    "# Relational Operators II\n",
    "- > greater than\n",
    "- >= greater than or equal to\n",
    "- < less than\n",
    "- <= less than or equal to"
   ]
  },
  {
   "cell_type": "code",
   "execution_count": 11,
   "metadata": {},
   "outputs": [
    {
     "name": "stdout",
     "output_type": "stream",
     "text": [
      "These numbers are the same\n",
      "You have enough credits to graduate!\n"
     ]
    }
   ],
   "source": [
    "x = 20\n",
    "y = 20\n",
    "\n",
    "# Write the first if statement here:\n",
    "if x == y:\n",
    "  print(\"These numbers are the same\")\n",
    "\n",
    "\n",
    "credits = 120\n",
    "\n",
    "# Write the second if statement here:\n",
    "if credits >= 120:\n",
    "  print(\"You have enough credits to graduate!\")\n"
   ]
  },
  {
   "cell_type": "markdown",
   "metadata": {},
   "source": [
    "# Boolean operators : AND\n",
    "\n",
    "There are three boolean operators that we will cover:\n",
    "\n",
    "and\n",
    "or\n",
    "not\n",
    "Let’s start with and.\n",
    "\n",
    "and combines two boolean expressions and evaluates as True if both its components are True, but False otherwise."
   ]
  },
  {
   "cell_type": "code",
   "execution_count": 12,
   "metadata": {},
   "outputs": [],
   "source": [
    "S1 = (2 + 2 + 2 >= 6) and (-1 * -1 < 0)\n",
    "S2 = (4 * 2 <= 8) and (7 - 1 == 6)"
   ]
  },
  {
   "cell_type": "code",
   "execution_count": 14,
   "metadata": {},
   "outputs": [
    {
     "data": {
      "text/plain": [
       "False"
      ]
     },
     "execution_count": 14,
     "metadata": {},
     "output_type": "execute_result"
    }
   ],
   "source": [
    "S1"
   ]
  },
  {
   "cell_type": "code",
   "execution_count": 15,
   "metadata": {},
   "outputs": [
    {
     "data": {
      "text/plain": [
       "True"
      ]
     },
     "execution_count": 15,
     "metadata": {},
     "output_type": "execute_result"
    }
   ],
   "source": [
    "S2"
   ]
  },
  {
   "cell_type": "markdown",
   "metadata": {},
   "source": [
    "# Boolean operators : Or\n",
    "The boolean operator or combines two expressions into a larger expression that is True if either component is True."
   ]
  },
  {
   "cell_type": "code",
   "execution_count": 18,
   "metadata": {},
   "outputs": [
    {
     "data": {
      "text/plain": [
       "True"
      ]
     },
     "execution_count": 18,
     "metadata": {},
     "output_type": "execute_result"
    }
   ],
   "source": [
    "S1 = (2 - 1 > 3) or (-5 * 2 == -10)\n",
    "S1"
   ]
  },
  {
   "cell_type": "code",
   "execution_count": 19,
   "metadata": {},
   "outputs": [
    {
     "data": {
      "text/plain": [
       "True"
      ]
     },
     "execution_count": 19,
     "metadata": {},
     "output_type": "execute_result"
    }
   ],
   "source": [
    "S2 = (9 + 5 <= 15) or (7 != 4 + 3)\n",
    "S2"
   ]
  },
  {
   "cell_type": "code",
   "execution_count": 20,
   "metadata": {},
   "outputs": [
    {
     "name": "stdout",
     "output_type": "stream",
     "text": [
      "You have met at least one of the requirements.\n"
     ]
    }
   ],
   "source": [
    "statement_one = True\n",
    "\n",
    "statement_two = True\n",
    "\n",
    "credits = 118\n",
    "gpa = 2.0\n",
    "\n",
    "if credits >= 120 or gpa >= 2.0:\n",
    "  print(\"You have met at least one of the requirements.\")"
   ]
  },
  {
   "cell_type": "markdown",
   "metadata": {},
   "source": [
    "# Boolean Operators: not\n",
    "This operator is straightforward: when applied to any boolean expression it reverses the boolean value. So if we have a True statement and apply a not operator we get a False statement.\n",
    "\n",
    "not True == False\n",
    "\n",
    "not False == True"
   ]
  },
  {
   "cell_type": "code",
   "execution_count": 23,
   "metadata": {},
   "outputs": [
    {
     "data": {
      "text/plain": [
       "False"
      ]
     },
     "execution_count": 23,
     "metadata": {},
     "output_type": "execute_result"
    }
   ],
   "source": [
    "S1 = not (4 + 5 <= 9)\n",
    "\n",
    "S2 = not (8 * 2) != 20 - 4\n",
    "\n",
    "S1   "
   ]
  },
  {
   "cell_type": "code",
   "execution_count": 24,
   "metadata": {},
   "outputs": [
    {
     "data": {
      "text/plain": [
       "True"
      ]
     },
     "execution_count": 24,
     "metadata": {},
     "output_type": "execute_result"
    }
   ],
   "source": [
    "S2"
   ]
  },
  {
   "cell_type": "code",
   "execution_count": 25,
   "metadata": {},
   "outputs": [
    {
     "name": "stdout",
     "output_type": "stream",
     "text": [
      "Your GPA is not high enough to graduate.\n"
     ]
    }
   ],
   "source": [
    "statement_one = False\n",
    "\n",
    "statement_two = True\n",
    "\n",
    "credits = 120\n",
    "gpa = 1.8\n",
    "if not credits >= 120:\n",
    "  print(\"You do not have enough credits to graduate.\")\n",
    "if not gpa >= 2.0:\n",
    "  print(\"Your GPA is not high enough to graduate.\")\n",
    "if not (credits >= 120) and not (gpa >= 2.0):\n",
    "  print(\"You do not meet either requirement to graduate!\")"
   ]
  },
  {
   "cell_type": "markdown",
   "metadata": {},
   "source": [
    "# Else Statements\n",
    "- else statements allow us to elegantly describe what we want our code to do when certain conditions are not met."
   ]
  },
  {
   "cell_type": "code",
   "execution_count": 29,
   "metadata": {},
   "outputs": [
    {
     "name": "stdout",
     "output_type": "stream",
     "text": [
      "You do not meet the requirements to graduate.\n"
     ]
    }
   ],
   "source": [
    "credits = 120\n",
    "gpa = 1.9\n",
    "\n",
    "if (credits >= 120) and (gpa >= 2.0):\n",
    "  print(\"You meet the requirements to graduate!\")\n",
    "else:\n",
    "  print(\"You do not meet the requirements to graduate.\")"
   ]
  },
  {
   "cell_type": "markdown",
   "metadata": {},
   "source": [
    "# Else If Statements\n",
    "An elif statement checks another condition after the previous if statements conditions aren’t met."
   ]
  },
  {
   "cell_type": "code",
   "execution_count": 30,
   "metadata": {},
   "outputs": [
    {
     "name": "stdout",
     "output_type": "stream",
     "text": [
      "B\n"
     ]
    }
   ],
   "source": [
    "grade = 86\n",
    "if grade >= 90:\n",
    "  print(\"A\")\n",
    "elif grade >= 80:\n",
    "  print(\"B\")\n",
    "elif grade >= 70:\n",
    "  print(\"C\")\n",
    "elif grade >= 60:\n",
    "  print(\"D\")\n",
    "else:\n",
    "  print(\"F\")"
   ]
  },
  {
   "cell_type": "markdown",
   "metadata": {},
   "source": [
    "# Points\n",
    "- Boolean expressions are statements that can be either True or False\n",
    "- A boolean variable is a variable that is set to either True or False.\n",
    "- We can create boolean expressions using relational operators:\n",
    "\n",
    "==: Equals\n",
    "!=: Not equals\n",
    ">: Greater than\n",
    ">=: Greater than or equal to\n",
    "<: Less than\n",
    "<=: Less than or equal to\n",
    "\n",
    "- *if* statements can be used to create control flow in your code.\n",
    "- *else* statements can be used to execute code when the conditions of an if statement are not met.\n",
    "- *elif* statements can be used to build additional checks into your if statements"
   ]
  },
  {
   "cell_type": "code",
   "execution_count": 31,
   "metadata": {},
   "outputs": [
    {
     "name": "stdout",
     "output_type": "stream",
     "text": [
      "I have information for the following planets:\n",
      "\n",
      "   1. Venus   2. Mars    3. Jupiter\n",
      "   4. Saturn  5. Uranus  6. Neptune\n",
      "\n",
      "Your weight: 432.9\n"
     ]
    }
   ],
   "source": [
    "print(\"I have information for the following planets:\\n\")\n",
    "\n",
    "print(\"   1. Venus   2. Mars    3. Jupiter\")\n",
    "print(\"   4. Saturn  5. Uranus  6. Neptune\\n\")\n",
    " \n",
    "weight = 185\n",
    "planet = 3\n",
    "\n",
    "# Write an if statement below:\n",
    "\n",
    "if planet == 1:\n",
    "  weight = weight * 0.91\n",
    "elif planet == 2:\n",
    "  weight = weight * 0.38\n",
    "elif planet == 3:\n",
    "  weight = weight * 2.34\n",
    "elif planet == 4:\n",
    "  weight = weight * 1.06\n",
    "elif planet == 5:\n",
    "  weight = weight * 0.92\n",
    "elif planet == 6:\n",
    "  weight = weight * 1.19\n",
    " \n",
    "print(\"Your weight:\", weight)"
   ]
  },
  {
   "cell_type": "markdown",
   "metadata": {},
   "source": [
    "# C2: 1. Large Power\n",
    "For the first code challenge, we are going to create a method that tests whether the result of taking the power of one number to another number provides an answer which is greater than 5000. We will use a conditional statement to return True if the result is greater than 5000 or return False if it is not. In order to accomplish this, we will need the following steps:\n",
    "\n",
    "Define the function to accept two input parameters called base and exponent\n",
    "\n",
    "Calculate the result of base to the power of exponent\n",
    "\n",
    "Use an if statement to test if the result is greater than 5000. If it is then return True. Otherwise, return False"
   ]
  },
  {
   "cell_type": "code",
   "execution_count": 42,
   "metadata": {},
   "outputs": [
    {
     "name": "stdout",
     "output_type": "stream",
     "text": [
      "8192\n"
     ]
    }
   ],
   "source": [
    "def large_power(base, exponent):\n",
    "    result = base ** exponent\n",
    "    return result\n",
    "\n",
    "print(large_power(2, 13))"
   ]
  },
  {
   "cell_type": "code",
   "execution_count": 46,
   "metadata": {},
   "outputs": [],
   "source": [
    "def large_power(base, exponent):\n",
    "  if base ** exponent > 5000:\n",
    "    return True\n",
    "  else:\n",
    "    return False"
   ]
  },
  {
   "cell_type": "code",
   "execution_count": 47,
   "metadata": {},
   "outputs": [
    {
     "data": {
      "text/plain": [
       "True"
      ]
     },
     "execution_count": 47,
     "metadata": {},
     "output_type": "execute_result"
    }
   ],
   "source": [
    "large_power(2, 13)"
   ]
  },
  {
   "cell_type": "code",
   "execution_count": 48,
   "metadata": {},
   "outputs": [
    {
     "data": {
      "text/plain": [
       "False"
      ]
     },
     "execution_count": 48,
     "metadata": {},
     "output_type": "execute_result"
    }
   ],
   "source": [
    "large_power(2, 12)"
   ]
  },
  {
   "cell_type": "markdown",
   "metadata": {},
   "source": [
    "# 2. Over Budget\n",
    "Let’s say we are trying to save some money and we are watching our budget. We need to make sure that the result of our spending is less than the total amount we have allocated for each of the categories. Our function will accept a parameter called budget which describes our spending limit. The next four parameters describe what we are spending our money on. We need to sum all of our spendings and compare it to the budget. If we have gone over budget, we will return True. Otherwise we return False. Here are the steps we need:\n",
    "\n",
    "Define the function to accept five parameters starting with budget then food_bill, electricity_bill, internet_bill, and rent\n",
    "\n",
    "Calculate the sum of the last four parameters\n",
    "Use if and else statements to test if the budget is less than the sum of the calculated sum from the previous step.\n",
    "\n",
    "If the condition is true, return True otherwise return False"
   ]
  },
  {
   "cell_type": "code",
   "execution_count": 54,
   "metadata": {},
   "outputs": [],
   "source": [
    "def over_budget(budget, food_bill, electricity_bill, internet_bill, rent):\n",
    "    Sum = food_bill + electricity_bill + internet_bill + rent\n",
    "    if budget < Sum:\n",
    "        return True\n",
    "    else:\n",
    "        return False\n",
    "# if u write true there will be name error...make sure to write True"
   ]
  },
  {
   "cell_type": "code",
   "execution_count": 55,
   "metadata": {},
   "outputs": [
    {
     "data": {
      "text/plain": [
       "True"
      ]
     },
     "execution_count": 55,
     "metadata": {},
     "output_type": "execute_result"
    }
   ],
   "source": [
    "over_budget(80, 20, 30, 10, 30)"
   ]
  },
  {
   "cell_type": "code",
   "execution_count": 56,
   "metadata": {},
   "outputs": [
    {
     "data": {
      "text/plain": [
       "False"
      ]
     },
     "execution_count": 56,
     "metadata": {},
     "output_type": "execute_result"
    }
   ],
   "source": [
    "over_budget(100, 20, 30, 10, 40)"
   ]
  },
  {
   "cell_type": "markdown",
   "metadata": {},
   "source": [
    "# 3. Twice As Large\n",
    "In this challenge, we will determine if one number is twice as large as another number. To do this, we will compare the first number with two times the second number. Here are the steps:\n",
    "\n",
    "Define our function with two inputs num1 and num2\n",
    "\n",
    "Multiply the second input by 2\n",
    "\n",
    "Use an if statement to compare the result of the last calculation with the first input\n",
    "\n",
    "If num1 is greater then return True otherwise return False"
   ]
  },
  {
   "cell_type": "code",
   "execution_count": 57,
   "metadata": {},
   "outputs": [],
   "source": [
    "def twice_as_large(num1, num2):\n",
    "    double = num2 * 2\n",
    "    if num1> double:\n",
    "        return True\n",
    "    else:\n",
    "        return False"
   ]
  },
  {
   "cell_type": "code",
   "execution_count": 58,
   "metadata": {},
   "outputs": [
    {
     "data": {
      "text/plain": [
       "False"
      ]
     },
     "execution_count": 58,
     "metadata": {},
     "output_type": "execute_result"
    }
   ],
   "source": [
    "twice_as_large(10, 5)"
   ]
  },
  {
   "cell_type": "code",
   "execution_count": 59,
   "metadata": {},
   "outputs": [
    {
     "data": {
      "text/plain": [
       "True"
      ]
     },
     "execution_count": 59,
     "metadata": {},
     "output_type": "execute_result"
    }
   ],
   "source": [
    "twice_as_large(11, 5)"
   ]
  },
  {
   "cell_type": "markdown",
   "metadata": {},
   "source": [
    "# 4. Divisible By Ten\n",
    "To make things a bit more challenging, we are going to create a function that determines whether or not a number is divisible by ten. A number is divisible by ten if the remainder of the number divided by 10 is 0. Using this, we can complete this function in a few steps:\n",
    "\n",
    "Define the function header to accept one input num\n",
    "\n",
    "Calculate the remainder of the input divided by 10 (use modulus)\n",
    "\n",
    "Use an if statement to check if the remainder was 0. If the remainder was 0, return True, otherwise, return False"
   ]
  },
  {
   "cell_type": "code",
   "execution_count": 60,
   "metadata": {},
   "outputs": [],
   "source": [
    "def divisible_by_ten(num):\n",
    "    rem = num % 10\n",
    "    if rem == 0:\n",
    "        return True\n",
    "    else:\n",
    "        return False"
   ]
  },
  {
   "cell_type": "code",
   "execution_count": 61,
   "metadata": {},
   "outputs": [
    {
     "data": {
      "text/plain": [
       "True"
      ]
     },
     "execution_count": 61,
     "metadata": {},
     "output_type": "execute_result"
    }
   ],
   "source": [
    "divisible_by_ten(20)"
   ]
  },
  {
   "cell_type": "code",
   "execution_count": 62,
   "metadata": {},
   "outputs": [
    {
     "data": {
      "text/plain": [
       "False"
      ]
     },
     "execution_count": 62,
     "metadata": {},
     "output_type": "execute_result"
    }
   ],
   "source": [
    "divisible_by_ten(25)"
   ]
  },
  {
   "cell_type": "code",
   "execution_count": 63,
   "metadata": {},
   "outputs": [],
   "source": [
    "def divisible_by_ten(num):\n",
    "  if (num % 10 == 0):\n",
    "    return True\n",
    "  else:\n",
    "    return False"
   ]
  },
  {
   "cell_type": "markdown",
   "metadata": {},
   "source": [
    "# 5. Not Sum To Ten\n",
    "Finally, we are going to check if the summation of two inputs does not equal ten. Our function will accept two inputs and add them together. If the two numbers added together are not equal to ten, then we will return True, otherwise, we will return False. Here is what we need to do:\n",
    "\n",
    "Define the function to accept two parameters, num1 and num2\n",
    "Add the two parameters together\n",
    "Test if the result is not equal to 10\n",
    "If the sum is not equal, return True, otherwise, return False"
   ]
  },
  {
   "cell_type": "code",
   "execution_count": 68,
   "metadata": {},
   "outputs": [],
   "source": [
    "def not_sum_to_ten(num1, num2):\n",
    "    if (num1+num2) != 10:\n",
    "        return True\n",
    "    else:\n",
    "        return False  "
   ]
  },
  {
   "cell_type": "code",
   "execution_count": 69,
   "metadata": {},
   "outputs": [
    {
     "data": {
      "text/plain": [
       "False"
      ]
     },
     "execution_count": 69,
     "metadata": {},
     "output_type": "execute_result"
    }
   ],
   "source": [
    "not_sum_to_ten(9, 1)"
   ]
  },
  {
   "cell_type": "code",
   "execution_count": 70,
   "metadata": {},
   "outputs": [
    {
     "data": {
      "text/plain": [
       "True"
      ]
     },
     "execution_count": 70,
     "metadata": {},
     "output_type": "execute_result"
    }
   ],
   "source": [
    "not_sum_to_ten(9, -1)"
   ]
  },
  {
   "cell_type": "markdown",
   "metadata": {},
   "source": [
    "# 1. In Range\n",
    "Let’s start the advanced challenge problems by testing if a number falls within a certain range. We will accept three parameters where the first parameter is the number we are testing, the second parameter is the lower bound and the third parameter is the upper bound of our range. These are the steps required:\n",
    "\n",
    "Define the function to accept three numbers as parameters\n",
    "Test if the number is greater than or equal to the lower bound and less than or equal to the upper bound\n",
    "If this is true, return True, otherwise, return False"
   ]
  },
  {
   "cell_type": "code",
   "execution_count": 71,
   "metadata": {},
   "outputs": [],
   "source": [
    "def in_range(num, lower, upper):\n",
    "    if num >= lower and num <= upper:\n",
    "        return True\n",
    "    else:\n",
    "        return False"
   ]
  },
  {
   "cell_type": "code",
   "execution_count": 72,
   "metadata": {},
   "outputs": [
    {
     "data": {
      "text/plain": [
       "True"
      ]
     },
     "execution_count": 72,
     "metadata": {},
     "output_type": "execute_result"
    }
   ],
   "source": [
    "in_range(10, 10, 10)"
   ]
  },
  {
   "cell_type": "code",
   "execution_count": 73,
   "metadata": {},
   "outputs": [
    {
     "data": {
      "text/plain": [
       "False"
      ]
     },
     "execution_count": 73,
     "metadata": {},
     "output_type": "execute_result"
    }
   ],
   "source": [
    "in_range(5, 10, 20)"
   ]
  },
  {
   "cell_type": "markdown",
   "metadata": {},
   "source": [
    "# 2. Same Name\n",
    "We need to write a program that checks different names and determines if they are equal. We need to accept two strings and compare them. Here are the steps:\n",
    "\n",
    "Define the function to accept two strings, your_name and my_name\n",
    "Test if the two strings are equal\n",
    "Return True if they are equal, otherwise return False"
   ]
  },
  {
   "cell_type": "code",
   "execution_count": 74,
   "metadata": {},
   "outputs": [],
   "source": [
    "def same_name(your_name, my_name):\n",
    "    if your_name == my_name:\n",
    "        return True\n",
    "    return False"
   ]
  },
  {
   "cell_type": "code",
   "execution_count": 75,
   "metadata": {},
   "outputs": [
    {
     "data": {
      "text/plain": [
       "False"
      ]
     },
     "execution_count": 75,
     "metadata": {},
     "output_type": "execute_result"
    }
   ],
   "source": [
    "same_name(\"Tina\", \"Amber\")"
   ]
  },
  {
   "cell_type": "code",
   "execution_count": 76,
   "metadata": {},
   "outputs": [
    {
     "data": {
      "text/plain": [
       "True"
      ]
     },
     "execution_count": 76,
     "metadata": {},
     "output_type": "execute_result"
    }
   ],
   "source": [
    "same_name(\"Colby\", \"Colby\")"
   ]
  },
  {
   "cell_type": "markdown",
   "metadata": {},
   "source": [
    "# 3. Always False\n",
    "There are some situations that you normally want to avoid when programming using conditional statements. One example is a contradiction. This occurs when your condition will always be false no matter what value you pass into it. Let’s create an example of a function that contains a contradiction. It will contain a few steps:\n",
    "\n",
    "Define the function to accept a single parameter called num\n",
    "\n",
    "Use a combination of <, > and and to create a contradiction in an if statement.\n",
    "\n",
    "If the condition is true, return True, otherwise return False. \n",
    "\n",
    "The trick here is that because we’ve written a contradiction, the condition should never be true, so we should expect to always return False."
   ]
  },
  {
   "cell_type": "code",
   "execution_count": 77,
   "metadata": {},
   "outputs": [],
   "source": [
    "def always_false(num):\n",
    "    if num > 1 and num < 0:\n",
    "        return True\n",
    "    return False"
   ]
  },
  {
   "cell_type": "code",
   "execution_count": 78,
   "metadata": {},
   "outputs": [
    {
     "data": {
      "text/plain": [
       "False"
      ]
     },
     "execution_count": 78,
     "metadata": {},
     "output_type": "execute_result"
    }
   ],
   "source": [
    "always_false(-1)"
   ]
  },
  {
   "cell_type": "code",
   "execution_count": 79,
   "metadata": {},
   "outputs": [
    {
     "data": {
      "text/plain": [
       "False"
      ]
     },
     "execution_count": 79,
     "metadata": {},
     "output_type": "execute_result"
    }
   ],
   "source": [
    "always_false(0)"
   ]
  },
  {
   "cell_type": "code",
   "execution_count": 80,
   "metadata": {},
   "outputs": [
    {
     "data": {
      "text/plain": [
       "False"
      ]
     },
     "execution_count": 80,
     "metadata": {},
     "output_type": "execute_result"
    }
   ],
   "source": [
    "always_false(1)"
   ]
  },
  {
   "cell_type": "markdown",
   "metadata": {},
   "source": [
    "# 4. Movie Review\n",
    "We want to create a function that will help us rate movies. Our function will split the ratings into different ranges and tell the user how the movie was based on the movie’s rating. Here are the steps needed:\n",
    "\n",
    "Define our function to accept a single number called rating\n",
    "\n",
    "If the rating is equal to or less than 5, return \"Avoid at all costs!\"\n",
    "\n",
    "If the rating was less than 9, return \"This one was fun.\"\n",
    "\n",
    "If neither of the if statement conditions were met, return \"Outstanding!\""
   ]
  },
  {
   "cell_type": "code",
   "execution_count": 81,
   "metadata": {},
   "outputs": [],
   "source": [
    "def movie_review(rating):\n",
    "    if(rating <= 5):\n",
    "        return \"Avoid at all costs!\"\n",
    "    if(rating < 9):\n",
    "        return \"This one was fun.\"\n",
    "    return \"Outstanding!\""
   ]
  },
  {
   "cell_type": "code",
   "execution_count": 82,
   "metadata": {},
   "outputs": [
    {
     "data": {
      "text/plain": [
       "'Outstanding!'"
      ]
     },
     "execution_count": 82,
     "metadata": {},
     "output_type": "execute_result"
    }
   ],
   "source": [
    "movie_review(9)"
   ]
  },
  {
   "cell_type": "code",
   "execution_count": 83,
   "metadata": {},
   "outputs": [
    {
     "data": {
      "text/plain": [
       "'Avoid at all costs!'"
      ]
     },
     "execution_count": 83,
     "metadata": {},
     "output_type": "execute_result"
    }
   ],
   "source": [
    "movie_review(4)"
   ]
  },
  {
   "cell_type": "code",
   "execution_count": 84,
   "metadata": {},
   "outputs": [
    {
     "data": {
      "text/plain": [
       "'This one was fun.'"
      ]
     },
     "execution_count": 84,
     "metadata": {},
     "output_type": "execute_result"
    }
   ],
   "source": [
    "movie_review(6)"
   ]
  },
  {
   "cell_type": "markdown",
   "metadata": {},
   "source": [
    "# 5. Max Number\n",
    "For the final challenge, we are going to select which number from three input values is the greatest using conditional statements. To do this, we need to check the different combinations of values to see which number is greater than the other two. Here is what we need to do:\n",
    "\n",
    "Define a function that has three input parameters, num1, num2, and num3\n",
    "Test if num1 is greater than the other two numbers\n",
    "If so, return num1\n",
    "Test if num2 is greater than the other two numbers\n",
    "If so, return num2\n",
    "Test if num3 is greater than the other two numbers\n",
    "If so, return num3\n",
    "If there was a tie between the two largest numbers, then return \"It's a tie!\""
   ]
  },
  {
   "cell_type": "code",
   "execution_count": 85,
   "metadata": {},
   "outputs": [],
   "source": [
    "def max_num(num1, num2, num3):\n",
    "    if num1> num2 and num1>num3:\n",
    "        return num1\n",
    "    elif num2> num1 and num2>num3:\n",
    "        return num2\n",
    "    elif num3>num2 and num3> num1:\n",
    "        return num3\n",
    "    else:\n",
    "        return \"It's a tie!\""
   ]
  },
  {
   "cell_type": "code",
   "execution_count": 87,
   "metadata": {},
   "outputs": [
    {
     "data": {
      "text/plain": [
       "\"It's a tie!\""
      ]
     },
     "execution_count": 87,
     "metadata": {},
     "output_type": "execute_result"
    }
   ],
   "source": [
    "\n",
    "max_num(2, 3, 3)"
   ]
  },
  {
   "cell_type": "code",
   "execution_count": 88,
   "metadata": {},
   "outputs": [
    {
     "data": {
      "text/plain": [
       "-5"
      ]
     },
     "execution_count": 88,
     "metadata": {},
     "output_type": "execute_result"
    }
   ],
   "source": [
    "\n",
    "max_num(-5, -10, -10)\n"
   ]
  },
  {
   "cell_type": "code",
   "execution_count": 89,
   "metadata": {},
   "outputs": [
    {
     "data": {
      "text/plain": [
       "5"
      ]
     },
     "execution_count": 89,
     "metadata": {},
     "output_type": "execute_result"
    }
   ],
   "source": [
    "max_num(-10, 5, -30)\n"
   ]
  },
  {
   "cell_type": "code",
   "execution_count": 90,
   "metadata": {},
   "outputs": [
    {
     "data": {
      "text/plain": [
       "10"
      ]
     },
     "execution_count": 90,
     "metadata": {},
     "output_type": "execute_result"
    }
   ],
   "source": [
    "max_num(-10, 0, 10)\n"
   ]
  },
  {
   "cell_type": "code",
   "execution_count": null,
   "metadata": {},
   "outputs": [],
   "source": []
  }
 ],
 "metadata": {
  "kernelspec": {
   "display_name": "Python 3",
   "language": "python",
   "name": "python3"
  },
  "language_info": {
   "codemirror_mode": {
    "name": "ipython",
    "version": 3
   },
   "file_extension": ".py",
   "mimetype": "text/x-python",
   "name": "python",
   "nbconvert_exporter": "python",
   "pygments_lexer": "ipython3",
   "version": "3.7.6"
  }
 },
 "nbformat": 4,
 "nbformat_minor": 4
}
